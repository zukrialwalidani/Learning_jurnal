{
  "nbformat": 4,
  "nbformat_minor": 0,
  "metadata": {
    "colab": {
      "name": "conditional_and_looping.ipynb",
      "provenance": []
    },
    "kernelspec": {
      "name": "python3",
      "display_name": "Python 3"
    },
    "language_info": {
      "name": "python"
    }
  },
  "cells": [
    {
      "cell_type": "code",
      "source": [
        ""
      ],
      "metadata": {
        "id": "CrZPt0lH0aqe"
      },
      "execution_count": null,
      "outputs": []
    },
    {
      "cell_type": "markdown",
      "source": [
        "# New Section"
      ],
      "metadata": {
        "id": "CMvRFD6G0cFa"
      }
    },
    {
      "cell_type": "code",
      "execution_count": 10,
      "metadata": {
        "colab": {
          "base_uri": "https://localhost:8080/"
        },
        "id": "OzUnx2HFxacm",
        "outputId": "a0feb4d9-af62-4c44-d1ed-3c8b92c63f7f"
      },
      "outputs": [
        {
          "output_type": "stream",
          "name": "stdout",
          "text": [
            "isi variabel angka adalah 1\n",
            "1 lebih kecil dari 10\n"
          ]
        }
      ],
      "source": [
        "angka = 1\n",
        "print(f\"isi variabel angka adalah {angka}\")\n",
        "if angka<10:\n",
        "  print(f\"{angka} lebih kecil dari 10\")\n",
        "  print(\"ini masih dibawah if\")\n"
      ]
    },
    {
      "cell_type": "code",
      "source": [
        ""
      ],
      "metadata": {
        "id": "uKThW9gF09q5"
      },
      "execution_count": null,
      "outputs": []
    },
    {
      "cell_type": "code",
      "source": [
        "angka>10"
      ],
      "metadata": {
        "colab": {
          "base_uri": "https://localhost:8080/"
        },
        "id": "wZqmX5Ccx06x",
        "outputId": "0218a0da-556d-4642-af06-e8608d243ad2"
      },
      "execution_count": 9,
      "outputs": [
        {
          "output_type": "execute_result",
          "data": {
            "text/plain": [
              "True"
            ]
          },
          "metadata": {},
          "execution_count": 9
        }
      ]
    },
    {
      "cell_type": "code",
      "source": [
        "ngka = 1\n",
        "print(f\"isi variabel angka adalah {angka}\")\n",
        "if angka<10:\n",
        "  print(f\"{angka} lebih kecil dari 10\")\n",
        "else:\n",
        "  print(f\"{angka}\")"
      ],
      "metadata": {
        "id": "iqrwYD4D0_Il"
      },
      "execution_count": null,
      "outputs": []
    },
    {
      "cell_type": "code",
      "source": [
        "angka = 1\n",
        "print(f\"isi variabel angka adalah {angka}\")\n",
        "if angka<10:\n",
        "  print(f\"{angka} lebih kecil dari 10\")\n",
        "  print(\"ini masih dibawah if\")\n"
      ],
      "metadata": {
        "id": "ykqOjcEC1oet"
      },
      "execution_count": null,
      "outputs": []
    },
    {
      "cell_type": "code",
      "source": [
        "# studi kasus\n",
        "buahbuahan = [\"pepaya\", \"mangga\", \"pisang\", \"jambu\", \"jeruk\"]\n",
        "if len(buahbuahan) > 3:\n",
        "  print(\"Mapir ke toko buah, cari jeruk\")\n",
        "  if 'jeruk' in buahbuahan:\n",
        "    print(\"beli \")"
      ],
      "metadata": {
        "id": "ZeMyDi_T473P"
      },
      "execution_count": null,
      "outputs": []
    },
    {
      "cell_type": "markdown",
      "source": [
        "ini dalah lop"
      ],
      "metadata": {
        "id": "BnsjYRW9_3GG"
      }
    },
    {
      "cell_type": "code",
      "source": [
        "# while\n",
        "ulang = 5\n",
        "while ulang > 0:\n",
        "  print(\"nama saya afif\")\n",
        "  ulang-= 1\n",
        "\n",
        "\n"
      ],
      "metadata": {
        "colab": {
          "base_uri": "https://localhost:8080/"
        },
        "id": "u7ffyTJq7EED",
        "outputId": "19bb4070-b31b-4afd-f5ee-0aa9a56065e9"
      },
      "execution_count": 15,
      "outputs": [
        {
          "output_type": "stream",
          "name": "stdout",
          "text": [
            "nama saya afif\n",
            "nama saya afif\n",
            "nama saya afif\n",
            "nama saya afif\n",
            "nama saya afif\n"
          ]
        }
      ]
    },
    {
      "cell_type": "code",
      "source": [
        "# tabel perkalian 7\n"
      ],
      "metadata": {
        "id": "LwL_KdaHCRVe"
      },
      "execution_count": 14,
      "outputs": []
    },
    {
      "cell_type": "code",
      "source": [
        "# kalkulator 5 input\n",
        "jml_input = 5\n",
        "hasil = 1\n",
        "while jml_input > 0:\n",
        "  angka = input(\"masukkan angka:\")\n",
        "  hasil *= eval(angka)\n",
        "  jml_input -= 1\n",
        "print(hasil)"
      ],
      "metadata": {
        "colab": {
          "base_uri": "https://localhost:8080/"
        },
        "id": "qT2q6fx5CdFe",
        "outputId": "d1069ec1-ff58-43a3-f9a4-a5b917109148"
      },
      "execution_count": 21,
      "outputs": [
        {
          "output_type": "stream",
          "name": "stdout",
          "text": [
            "masukkan angka:1\n",
            "masukkan angka:2\n",
            "masukkan angka:3\n",
            "masukkan angka:4\n",
            "masukkan angka:5\n",
            "120\n"
          ]
        }
      ]
    },
    {
      "cell_type": "code",
      "source": [
        "# menyimpan pesanan sampai cukup\n",
        "jml_input = [\"mie ayam\", \"bakso\" \"mie rebus\" \"mie goreng\"]\n",
        "while jml_input > cukup:\n",
        "  menu = input(\"masukkan menu:\")\n",
        "  hasil = input ()"
      ],
      "metadata": {
        "id": "PdNnlmTKDZ9a"
      },
      "execution_count": null,
      "outputs": []
    },
    {
      "cell_type": "code",
      "source": [
        "list(range(2,20,6))"
      ],
      "metadata": {
        "colab": {
          "base_uri": "https://localhost:8080/"
        },
        "id": "_rifd3wdH4Z0",
        "outputId": "2130e125-9a2b-43ac-be2f-14d096422951"
      },
      "execution_count": 23,
      "outputs": [
        {
          "output_type": "execute_result",
          "data": {
            "text/plain": [
              "[2, 8, 14]"
            ]
          },
          "metadata": {},
          "execution_count": 23
        }
      ]
    }
  ]
}