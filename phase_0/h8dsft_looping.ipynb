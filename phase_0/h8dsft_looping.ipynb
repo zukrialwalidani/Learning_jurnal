{
 "cells": [
  {
   "cell_type": "code",
   "execution_count": 48,
   "metadata": {},
   "outputs": [
    {
     "name": "stdout",
     "output_type": "stream",
     "text": [
      "402\n",
      "984\n",
      "360\n",
      "408\n",
      "980\n",
      "544\n",
      "390\n",
      "984\n",
      "592\n",
      "236\n",
      "942\n",
      "386\n",
      "462\n",
      "418\n",
      "344\n",
      "236\n",
      "566\n",
      "978\n",
      "328\n",
      "162\n",
      "758\n",
      "918\n",
      "done\n"
     ]
    }
   ],
   "source": [
    "numbers = [951, 402, 984, 651, 360, 69, 408, 319, 601, 485, 980,\n",
    "507, 725, 547, 544, 615, 83, 165, 141, 501, 263, 617, 865, 575, \n",
    "219, 390, 984, 592, 236, 105, 942, 941, 386, 462, 47, 418, 907, \n",
    "344, 236, 375, 823, 566, 597, 978, 328, 615, 953, 345, 399, 162, \n",
    "758, 219, 918, 237, 412, 566, 826, 248, 866, 950, 626, 949 ]\n",
    "for i in numbers:\n",
    "    if i % 2 ==0:\n",
    "        if i == 412:\n",
    "            break\n",
    "        print (i)\n",
    "print (\"done\") \n"
   ]
  }
 ],
 "metadata": {
  "interpreter": {
   "hash": "8fac594bfae6525c0c41b4041d2d72effa188cc8ead05f81b1fab2bb098927fb"
  },
  "kernelspec": {
   "display_name": "Python 3.8.8 64-bit ('base': conda)",
   "language": "python",
   "name": "python3"
  },
  "language_info": {
   "codemirror_mode": {
    "name": "ipython",
    "version": 3
   },
   "file_extension": ".py",
   "mimetype": "text/x-python",
   "name": "python",
   "nbconvert_exporter": "python",
   "pygments_lexer": "ipython3",
   "version": "3.8.8"
  },
  "orig_nbformat": 4
 },
 "nbformat": 4,
 "nbformat_minor": 2
}
