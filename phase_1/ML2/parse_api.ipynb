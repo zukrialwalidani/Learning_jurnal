{
 "cells": [
  {
   "cell_type": "code",
   "execution_count": 7,
   "metadata": {},
   "outputs": [],
   "source": [
    "import requests"
   ]
  },
  {
   "cell_type": "code",
   "execution_count": 9,
   "metadata": {},
   "outputs": [],
   "source": [
    "URL = \"https://api.pray.zone/v2/times/today.json?city=bandung\"\n",
    "r =requests.get(URL)\n",
    "data= r.json()"
   ]
  },
  {
   "cell_type": "code",
   "execution_count": 10,
   "metadata": {},
   "outputs": [
    {
     "data": {
      "text/plain": [
       "{'code': 200,\n",
       " 'status': 'OK',\n",
       " 'results': {'datetime': [{'times': {'Imsak': '04:31',\n",
       "     'Sunrise': '05:49',\n",
       "     'Fajr': '04:41',\n",
       "     'Dhuhr': '12:04',\n",
       "     'Asr': '15:19',\n",
       "     'Sunset': '18:18',\n",
       "     'Maghrib': '18:27',\n",
       "     'Isha': '19:22',\n",
       "     'Midnight': '23:30'},\n",
       "    'date': {'timestamp': 1644451200,\n",
       "     'gregorian': '2022-02-10',\n",
       "     'hijri': '1443-07-09'}}],\n",
       "  'location': {'latitude': -6.917463779449463,\n",
       "   'longitude': 107.61912536621094,\n",
       "   'elevation': 710.0,\n",
       "   'city': 'Bandung',\n",
       "   'country': 'Republic of Indonesia',\n",
       "   'country_code': 'ID',\n",
       "   'timezone': 'Asia/Jakarta',\n",
       "   'local_offset': 7.0},\n",
       "  'settings': {'timeformat': 'HH:mm',\n",
       "   'school': 'Ithna Ashari',\n",
       "   'juristic': 'Shafii',\n",
       "   'highlat': 'None',\n",
       "   'fajr_angle': 18.0,\n",
       "   'isha_angle': 17.0}}}"
      ]
     },
     "execution_count": 10,
     "metadata": {},
     "output_type": "execute_result"
    }
   ],
   "source": [
    "data"
   ]
  },
  {
   "cell_type": "code",
   "execution_count": 14,
   "metadata": {},
   "outputs": [
    {
     "data": {
      "text/plain": [
       "{'Imsak': '04:31',\n",
       " 'Sunrise': '05:49',\n",
       " 'Fajr': '04:41',\n",
       " 'Dhuhr': '12:04',\n",
       " 'Asr': '15:19',\n",
       " 'Sunset': '18:18',\n",
       " 'Maghrib': '18:27',\n",
       " 'Isha': '19:22',\n",
       " 'Midnight': '23:30'}"
      ]
     },
     "execution_count": 14,
     "metadata": {},
     "output_type": "execute_result"
    }
   ],
   "source": [
    "data['results'] ['datetime'][0]['times']"
   ]
  }
 ],
 "metadata": {
  "interpreter": {
   "hash": "aecd030d4c8316a52bf122072e28f84bcc79844c2684e041fef2e3f1d9f59078"
  },
  "kernelspec": {
   "display_name": "Python 3.10.1 64-bit",
   "language": "python",
   "name": "python3"
  },
  "language_info": {
   "codemirror_mode": {
    "name": "ipython",
    "version": 3
   },
   "file_extension": ".py",
   "mimetype": "text/x-python",
   "name": "python",
   "nbconvert_exporter": "python",
   "pygments_lexer": "ipython3",
   "version": "3.10.1"
  },
  "orig_nbformat": 4
 },
 "nbformat": 4,
 "nbformat_minor": 2
}
