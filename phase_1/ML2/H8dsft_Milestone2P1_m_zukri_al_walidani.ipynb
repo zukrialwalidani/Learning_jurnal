{
 "cells": [
  {
   "cell_type": "markdown",
   "metadata": {},
   "source": [
    "Perkenalan:\n",
    "1. Nama: Muhammad Zukri Al Walidani\n",
    "2. Batch: 007\n",
    "3. Phase: 1"
   ]
  },
  {
   "cell_type": "markdown",
   "metadata": {},
   "source": [
    "Data berikut merupakan kumpulan informasi dari karyawan perusahaan selama waktu tertentu. Selama waktu tersebut karyawan perusahaan ada yang bertahan dan ada juga yang keluar. Keluarnya karyawan tersebut cukup merugikan perusahaan karena harus melakukan rekrutmen, Belum lagi jika karyawan yang keluar tersbut merupakan karyawan dengan kinerja yang bagus. Untuk itu dibutuhkan analisis faktor apa saja yang signifikan dalam mempengaruhi karyawan dan perlu dibentuk model untuk memprediksi karyawan yang bertahan atau keluar dari perusahaan. Analisis ini diperlukan untuk mengevaluasi lingkungan perusahaan, manajemen sumberdaya manusia perusahaan dan optimalisasi kinerja karyawan."
   ]
  },
  {
   "cell_type": "markdown",
   "metadata": {},
   "source": [
    "Import pustaka"
   ]
  },
  {
   "cell_type": "code",
   "execution_count": 152,
   "metadata": {},
   "outputs": [],
   "source": [
    "import pandas as pd\n",
    "import numpy as np\n",
    "import matplotlib.pyplot as plt\n",
    "import seaborn as sns\n",
    "import plotly.express as px\n",
    "import plotly.graph_objects as go\n",
    "from sklearn import preprocessing \n",
    "from category_encoders import *\n",
    "from sklearn.preprocessing import LabelEncoder\n",
    "%matplotlib inline\n",
    "from sklearn.neighbors import KNeighborsClassifier\n",
    "from sklearn.ensemble import RandomForestClassifier\n",
    "from sklearn.linear_model import LogisticRegression\n",
    "from sklearn import datasets, linear_model, metrics\n",
    "from sklearn.metrics import  confusion_matrix\n",
    "from sklearn.metrics import accuracy_score, confusion_matrix, classification_report, precision_score, f1_score\n",
    "from sklearn.preprocessing import StandardScaler\n",
    "from sklearn.model_selection import train_test_split, GridSearchCV, StratifiedKFold\n",
    "from sklearn.metrics import classification_report,confusion_matrix\n",
    "from sklearn.metrics import roc_curve, roc_auc_score\n",
    "from sklearn.pipeline import Pipeline\n",
    "import time\n",
    "import warnings\n",
    "warnings.filterwarnings('ignore')"
   ]
  },
  {
   "cell_type": "markdown",
   "metadata": {},
   "source": [
    "Data Loading"
   ]
  },
  {
   "cell_type": "code",
   "execution_count": 153,
   "metadata": {},
   "outputs": [],
   "source": [
    "df=pd.read_csv('Employee.csv')"
   ]
  },
  {
   "cell_type": "code",
   "execution_count": 154,
   "metadata": {},
   "outputs": [
    {
     "data": {
      "text/html": [
       "<div>\n",
       "<style scoped>\n",
       "    .dataframe tbody tr th:only-of-type {\n",
       "        vertical-align: middle;\n",
       "    }\n",
       "\n",
       "    .dataframe tbody tr th {\n",
       "        vertical-align: top;\n",
       "    }\n",
       "\n",
       "    .dataframe thead th {\n",
       "        text-align: right;\n",
       "    }\n",
       "</style>\n",
       "<table border=\"1\" class=\"dataframe\">\n",
       "  <thead>\n",
       "    <tr style=\"text-align: right;\">\n",
       "      <th></th>\n",
       "      <th>Education</th>\n",
       "      <th>JoiningYear</th>\n",
       "      <th>City</th>\n",
       "      <th>PaymentTier</th>\n",
       "      <th>Age</th>\n",
       "      <th>Gender</th>\n",
       "      <th>EverBenched</th>\n",
       "      <th>ExperienceInCurrentDomain</th>\n",
       "      <th>LeaveOrNot</th>\n",
       "    </tr>\n",
       "  </thead>\n",
       "  <tbody>\n",
       "    <tr>\n",
       "      <th>0</th>\n",
       "      <td>Bachelors</td>\n",
       "      <td>2017</td>\n",
       "      <td>Bangalore</td>\n",
       "      <td>3</td>\n",
       "      <td>34</td>\n",
       "      <td>Male</td>\n",
       "      <td>No</td>\n",
       "      <td>0</td>\n",
       "      <td>0</td>\n",
       "    </tr>\n",
       "    <tr>\n",
       "      <th>1</th>\n",
       "      <td>Bachelors</td>\n",
       "      <td>2013</td>\n",
       "      <td>Pune</td>\n",
       "      <td>1</td>\n",
       "      <td>28</td>\n",
       "      <td>Female</td>\n",
       "      <td>No</td>\n",
       "      <td>3</td>\n",
       "      <td>1</td>\n",
       "    </tr>\n",
       "    <tr>\n",
       "      <th>2</th>\n",
       "      <td>Bachelors</td>\n",
       "      <td>2014</td>\n",
       "      <td>New Delhi</td>\n",
       "      <td>3</td>\n",
       "      <td>38</td>\n",
       "      <td>Female</td>\n",
       "      <td>No</td>\n",
       "      <td>2</td>\n",
       "      <td>0</td>\n",
       "    </tr>\n",
       "    <tr>\n",
       "      <th>3</th>\n",
       "      <td>Masters</td>\n",
       "      <td>2016</td>\n",
       "      <td>Bangalore</td>\n",
       "      <td>3</td>\n",
       "      <td>27</td>\n",
       "      <td>Male</td>\n",
       "      <td>No</td>\n",
       "      <td>5</td>\n",
       "      <td>1</td>\n",
       "    </tr>\n",
       "    <tr>\n",
       "      <th>4</th>\n",
       "      <td>Masters</td>\n",
       "      <td>2017</td>\n",
       "      <td>Pune</td>\n",
       "      <td>3</td>\n",
       "      <td>24</td>\n",
       "      <td>Male</td>\n",
       "      <td>Yes</td>\n",
       "      <td>2</td>\n",
       "      <td>1</td>\n",
       "    </tr>\n",
       "  </tbody>\n",
       "</table>\n",
       "</div>"
      ],
      "text/plain": [
       "   Education  JoiningYear       City  PaymentTier  Age  Gender EverBenched  \\\n",
       "0  Bachelors         2017  Bangalore            3   34    Male          No   \n",
       "1  Bachelors         2013       Pune            1   28  Female          No   \n",
       "2  Bachelors         2014  New Delhi            3   38  Female          No   \n",
       "3    Masters         2016  Bangalore            3   27    Male          No   \n",
       "4    Masters         2017       Pune            3   24    Male         Yes   \n",
       "\n",
       "   ExperienceInCurrentDomain  LeaveOrNot  \n",
       "0                          0           0  \n",
       "1                          3           1  \n",
       "2                          2           0  \n",
       "3                          5           1  \n",
       "4                          2           1  "
      ]
     },
     "execution_count": 154,
     "metadata": {},
     "output_type": "execute_result"
    }
   ],
   "source": [
    "#melihat data\n",
    "df.head()"
   ]
  },
  {
   "cell_type": "code",
   "execution_count": 155,
   "metadata": {},
   "outputs": [
    {
     "data": {
      "text/plain": [
       "array([0, 1], dtype=int64)"
      ]
     },
     "execution_count": 155,
     "metadata": {},
     "output_type": "execute_result"
    }
   ],
   "source": [
    "df.LeaveOrNot.unique()"
   ]
  },
  {
   "cell_type": "code",
   "execution_count": 156,
   "metadata": {},
   "outputs": [
    {
     "data": {
      "text/html": [
       "<div>\n",
       "<style scoped>\n",
       "    .dataframe tbody tr th:only-of-type {\n",
       "        vertical-align: middle;\n",
       "    }\n",
       "\n",
       "    .dataframe tbody tr th {\n",
       "        vertical-align: top;\n",
       "    }\n",
       "\n",
       "    .dataframe thead th {\n",
       "        text-align: right;\n",
       "    }\n",
       "</style>\n",
       "<table border=\"1\" class=\"dataframe\">\n",
       "  <thead>\n",
       "    <tr style=\"text-align: right;\">\n",
       "      <th></th>\n",
       "      <th>JoiningYear</th>\n",
       "      <th>PaymentTier</th>\n",
       "      <th>Age</th>\n",
       "      <th>ExperienceInCurrentDomain</th>\n",
       "      <th>LeaveOrNot</th>\n",
       "    </tr>\n",
       "  </thead>\n",
       "  <tbody>\n",
       "    <tr>\n",
       "      <th>count</th>\n",
       "      <td>4653.000000</td>\n",
       "      <td>4653.000000</td>\n",
       "      <td>4653.000000</td>\n",
       "      <td>4653.000000</td>\n",
       "      <td>4653.000000</td>\n",
       "    </tr>\n",
       "    <tr>\n",
       "      <th>mean</th>\n",
       "      <td>2015.062970</td>\n",
       "      <td>2.698259</td>\n",
       "      <td>29.393295</td>\n",
       "      <td>2.905652</td>\n",
       "      <td>0.343864</td>\n",
       "    </tr>\n",
       "    <tr>\n",
       "      <th>std</th>\n",
       "      <td>1.863377</td>\n",
       "      <td>0.561435</td>\n",
       "      <td>4.826087</td>\n",
       "      <td>1.558240</td>\n",
       "      <td>0.475047</td>\n",
       "    </tr>\n",
       "    <tr>\n",
       "      <th>min</th>\n",
       "      <td>2012.000000</td>\n",
       "      <td>1.000000</td>\n",
       "      <td>22.000000</td>\n",
       "      <td>0.000000</td>\n",
       "      <td>0.000000</td>\n",
       "    </tr>\n",
       "    <tr>\n",
       "      <th>25%</th>\n",
       "      <td>2013.000000</td>\n",
       "      <td>3.000000</td>\n",
       "      <td>26.000000</td>\n",
       "      <td>2.000000</td>\n",
       "      <td>0.000000</td>\n",
       "    </tr>\n",
       "    <tr>\n",
       "      <th>50%</th>\n",
       "      <td>2015.000000</td>\n",
       "      <td>3.000000</td>\n",
       "      <td>28.000000</td>\n",
       "      <td>3.000000</td>\n",
       "      <td>0.000000</td>\n",
       "    </tr>\n",
       "    <tr>\n",
       "      <th>75%</th>\n",
       "      <td>2017.000000</td>\n",
       "      <td>3.000000</td>\n",
       "      <td>32.000000</td>\n",
       "      <td>4.000000</td>\n",
       "      <td>1.000000</td>\n",
       "    </tr>\n",
       "    <tr>\n",
       "      <th>max</th>\n",
       "      <td>2018.000000</td>\n",
       "      <td>3.000000</td>\n",
       "      <td>41.000000</td>\n",
       "      <td>7.000000</td>\n",
       "      <td>1.000000</td>\n",
       "    </tr>\n",
       "  </tbody>\n",
       "</table>\n",
       "</div>"
      ],
      "text/plain": [
       "       JoiningYear  PaymentTier          Age  ExperienceInCurrentDomain  \\\n",
       "count  4653.000000  4653.000000  4653.000000                4653.000000   \n",
       "mean   2015.062970     2.698259    29.393295                   2.905652   \n",
       "std       1.863377     0.561435     4.826087                   1.558240   \n",
       "min    2012.000000     1.000000    22.000000                   0.000000   \n",
       "25%    2013.000000     3.000000    26.000000                   2.000000   \n",
       "50%    2015.000000     3.000000    28.000000                   3.000000   \n",
       "75%    2017.000000     3.000000    32.000000                   4.000000   \n",
       "max    2018.000000     3.000000    41.000000                   7.000000   \n",
       "\n",
       "        LeaveOrNot  \n",
       "count  4653.000000  \n",
       "mean      0.343864  \n",
       "std       0.475047  \n",
       "min       0.000000  \n",
       "25%       0.000000  \n",
       "50%       0.000000  \n",
       "75%       1.000000  \n",
       "max       1.000000  "
      ]
     },
     "execution_count": 156,
     "metadata": {},
     "output_type": "execute_result"
    }
   ],
   "source": [
    "df.describe()"
   ]
  },
  {
   "cell_type": "code",
   "execution_count": 157,
   "metadata": {},
   "outputs": [
    {
     "name": "stdout",
     "output_type": "stream",
     "text": [
      "<class 'pandas.core.frame.DataFrame'>\n",
      "RangeIndex: 4653 entries, 0 to 4652\n",
      "Data columns (total 9 columns):\n",
      " #   Column                     Non-Null Count  Dtype \n",
      "---  ------                     --------------  ----- \n",
      " 0   Education                  4653 non-null   object\n",
      " 1   JoiningYear                4653 non-null   int64 \n",
      " 2   City                       4653 non-null   object\n",
      " 3   PaymentTier                4653 non-null   int64 \n",
      " 4   Age                        4653 non-null   int64 \n",
      " 5   Gender                     4653 non-null   object\n",
      " 6   EverBenched                4653 non-null   object\n",
      " 7   ExperienceInCurrentDomain  4653 non-null   int64 \n",
      " 8   LeaveOrNot                 4653 non-null   int64 \n",
      "dtypes: int64(5), object(4)\n",
      "memory usage: 327.3+ KB\n"
     ]
    }
   ],
   "source": [
    "df.info()"
   ]
  },
  {
   "cell_type": "markdown",
   "metadata": {},
   "source": [
    "Exploratory Data Analisis"
   ]
  },
  {
   "cell_type": "code",
   "execution_count": 158,
   "metadata": {},
   "outputs": [
    {
     "data": {
      "image/png": "[encoded data removed]",
      "text/plain": [
       "<Figure size 1080x1080 with 9 Axes>"
      ]
     },
     "metadata": {
      "needs_background": "light"
     },
     "output_type": "display_data"
    }
   ],
   "source": [
    "x_col = df.columns\n",
    "num=0\n",
    "plt.figure(figsize=(15, 15))\n",
    "for i in x_col:\n",
    "    \n",
    "    num += 1\n",
    "    plt.subplot(3, 3, num)\n",
    "    sns.countplot(data=df, x=i, hue='LeaveOrNot').set_title(i)\n",
    "    \n",
    "\n",
    "plt.show()"
   ]
  },
  {
   "cell_type": "markdown",
   "metadata": {},
   "source": [
    "insight:\n",
    "1. Yang paling berpeluang meniggalkan perusahaan adalah yang berpendidikan Masters\n",
    "2. Tahun 2012 meupakan tahun dengan perbandingan karyawan keluar dan bertahan yang paling kecil.\n",
    "3. Tahun 2018 terjadi lonjakan besar karyawan yang keluar dari perusahaan.\n",
    "4. Karyawan dari kota Pune paling berpotensi meninggal perusahaan.\n",
    "5. Payment Tier pada ketegori 2 banyak yang meninggalkan perusahaan, sementara Payment Tier level 3 tidak banyak yang keluar.\n",
    "6. Jumlah Karyawan didominasi dari umur 24 tahun hingga 29 tahun.\n",
    "7. Wanita cenderung meninggalkan perusahaan\n",
    "8. Karyawan yang tidak mengerjakan proyek berkemungkinan besar resign dari perusahaan.\n",
    "9. Kebanyakan karyawan berpengalaman selama 2 tahun dalam pekerjaan sebelumnya.\n",
    "10. Karyawan yang tinggal masih lebih banyak dari yang keluar."
   ]
  },
  {
   "cell_type": "code",
   "execution_count": 159,
   "metadata": {},
   "outputs": [
    {
     "data": {
      "text/plain": [
       "<AxesSubplot:>"
      ]
     },
     "execution_count": 159,
     "metadata": {},
     "output_type": "execute_result"
    },
    {
     "data": {
      "image/png": "[encoded data removed]",
      "text/plain": [
       "<Figure size 720x432 with 2 Axes>"
      ]
     },
     "metadata": {
      "needs_background": "light"
     },
     "output_type": "display_data"
    }
   ],
   "source": [
    "plt.figure(figsize=(10,6))\n",
    "sns.heatmap(df.corr(),annot=True)"
   ]
  },
  {
   "cell_type": "markdown",
   "metadata": {},
   "source": [
    "Insight:\n",
    "1. Varibel berkorelasi secara signifikan terhadap dirinya sendiri.\n",
    "2. varibel yang memiliki korelasi paling tinggi dengan keluar atau tidaknya karyawan adalah paymentTier dan joinnig year\n",
    "3. varibel yang saling berkorelasi tertinggi yaitu ExpreiencecurruntDomain dan age"
   ]
  },
  {
   "cell_type": "markdown",
   "metadata": {},
   "source": [
    "Feature Engineering"
   ]
  },
  {
   "cell_type": "code",
   "execution_count": 160,
   "metadata": {},
   "outputs": [
    {
     "data": {
      "text/plain": [
       "Index(['Education', 'JoiningYear', 'City', 'PaymentTier', 'Age', 'Gender',\n",
       "       'EverBenched', 'ExperienceInCurrentDomain', 'LeaveOrNot'],\n",
       "      dtype='object')"
      ]
     },
     "execution_count": 160,
     "metadata": {},
     "output_type": "execute_result"
    }
   ],
   "source": [
    "df.columns"
   ]
  },
  {
   "cell_type": "code",
   "execution_count": 161,
   "metadata": {},
   "outputs": [
    {
     "name": "stdout",
     "output_type": "stream",
     "text": [
      "<class 'pandas.core.frame.DataFrame'>\n",
      "RangeIndex: 4653 entries, 0 to 4652\n",
      "Data columns (total 9 columns):\n",
      " #   Column                     Non-Null Count  Dtype \n",
      "---  ------                     --------------  ----- \n",
      " 0   Education                  4653 non-null   object\n",
      " 1   JoiningYear                4653 non-null   int64 \n",
      " 2   City                       4653 non-null   object\n",
      " 3   PaymentTier                4653 non-null   int64 \n",
      " 4   Age                        4653 non-null   int64 \n",
      " 5   Gender                     4653 non-null   object\n",
      " 6   EverBenched                4653 non-null   object\n",
      " 7   ExperienceInCurrentDomain  4653 non-null   int64 \n",
      " 8   LeaveOrNot                 4653 non-null   int64 \n",
      "dtypes: int64(5), object(4)\n",
      "memory usage: 327.3+ KB\n"
     ]
    }
   ],
   "source": [
    "#melihat missing value\n",
    "df.info()"
   ]
  },
  {
   "cell_type": "code",
   "execution_count": 162,
   "metadata": {},
   "outputs": [
    {
     "data": {
      "text/plain": [
       "Education                    0\n",
       "JoiningYear                  0\n",
       "City                         0\n",
       "PaymentTier                  0\n",
       "Age                          0\n",
       "Gender                       0\n",
       "EverBenched                  0\n",
       "ExperienceInCurrentDomain    0\n",
       "LeaveOrNot                   0\n",
       "dtype: int64"
      ]
     },
     "execution_count": 162,
     "metadata": {},
     "output_type": "execute_result"
    }
   ],
   "source": [
    "#melihat missing value\n",
    "df.isnull().sum()"
   ]
  },
  {
   "cell_type": "code",
   "execution_count": 163,
   "metadata": {},
   "outputs": [
    {
     "data": {
      "text/plain": [
       "Text(0.5, 1.0, 'ExperienceInCurrentDomain')"
      ]
     },
     "execution_count": 163,
     "metadata": {},
     "output_type": "execute_result"
    },
    {
     "data": {
      "image/png": "[encoded data removed]",
      "text/plain": [
       "<Figure size 1080x2160 with 3 Axes>"
      ]
     },
     "metadata": {
      "needs_background": "light"
     },
     "output_type": "display_data"
    }
   ],
   "source": [
    "#melihat Outliers\n",
    "plt.figure(figsize = (15, 30))\n",
    "plt.style.use('seaborn-white')\n",
    "ax=plt.subplot(521)\n",
    "plt.boxplot(df['JoiningYear'])\n",
    "ax.set_title('JoiningYear')\n",
    "ax=plt.subplot(522)\n",
    "plt.boxplot(df['Age'])\n",
    "ax.set_title('Age')\n",
    "ax=plt.subplot(523)\n",
    "plt.boxplot(df['ExperienceInCurrentDomain'])\n",
    "ax.set_title('ExperienceInCurrentDomain')"
   ]
  },
  {
   "cell_type": "code",
   "execution_count": 164,
   "metadata": {},
   "outputs": [
    {
     "data": {
      "text/plain": [
       "array(['Bachelors', 'Masters', 'PHD'], dtype=object)"
      ]
     },
     "execution_count": 164,
     "metadata": {},
     "output_type": "execute_result"
    }
   ],
   "source": [
    "df.Education.unique()"
   ]
  },
  {
   "cell_type": "code",
   "execution_count": 251,
   "metadata": {},
   "outputs": [],
   "source": [
    "from sklearn.preprocessing import OrdinalEncoder"
   ]
  },
  {
   "cell_type": "code",
   "execution_count": 253,
   "metadata": {},
   "outputs": [
    {
     "data": {
      "text/html": [
       "<div>\n",
       "<style scoped>\n",
       "    .dataframe tbody tr th:only-of-type {\n",
       "        vertical-align: middle;\n",
       "    }\n",
       "\n",
       "    .dataframe tbody tr th {\n",
       "        vertical-align: top;\n",
       "    }\n",
       "\n",
       "    .dataframe thead th {\n",
       "        text-align: right;\n",
       "    }\n",
       "</style>\n",
       "<table border=\"1\" class=\"dataframe\">\n",
       "  <thead>\n",
       "    <tr style=\"text-align: right;\">\n",
       "      <th></th>\n",
       "      <th>Education</th>\n",
       "      <th>JoiningYear</th>\n",
       "      <th>City</th>\n",
       "      <th>PaymentTier</th>\n",
       "      <th>Age</th>\n",
       "      <th>Gender</th>\n",
       "      <th>EverBenched</th>\n",
       "      <th>ExperienceInCurrentDomain</th>\n",
       "    </tr>\n",
       "  </thead>\n",
       "  <tbody>\n",
       "    <tr>\n",
       "      <th>0</th>\n",
       "      <td>0</td>\n",
       "      <td>5</td>\n",
       "      <td>0</td>\n",
       "      <td>2</td>\n",
       "      <td>12</td>\n",
       "      <td>1</td>\n",
       "      <td>0</td>\n",
       "      <td>0</td>\n",
       "    </tr>\n",
       "    <tr>\n",
       "      <th>1</th>\n",
       "      <td>0</td>\n",
       "      <td>1</td>\n",
       "      <td>2</td>\n",
       "      <td>0</td>\n",
       "      <td>6</td>\n",
       "      <td>0</td>\n",
       "      <td>0</td>\n",
       "      <td>3</td>\n",
       "    </tr>\n",
       "    <tr>\n",
       "      <th>2</th>\n",
       "      <td>0</td>\n",
       "      <td>2</td>\n",
       "      <td>1</td>\n",
       "      <td>2</td>\n",
       "      <td>16</td>\n",
       "      <td>0</td>\n",
       "      <td>0</td>\n",
       "      <td>2</td>\n",
       "    </tr>\n",
       "    <tr>\n",
       "      <th>3</th>\n",
       "      <td>1</td>\n",
       "      <td>4</td>\n",
       "      <td>0</td>\n",
       "      <td>2</td>\n",
       "      <td>5</td>\n",
       "      <td>1</td>\n",
       "      <td>0</td>\n",
       "      <td>5</td>\n",
       "    </tr>\n",
       "    <tr>\n",
       "      <th>4</th>\n",
       "      <td>1</td>\n",
       "      <td>5</td>\n",
       "      <td>2</td>\n",
       "      <td>2</td>\n",
       "      <td>2</td>\n",
       "      <td>1</td>\n",
       "      <td>1</td>\n",
       "      <td>2</td>\n",
       "    </tr>\n",
       "  </tbody>\n",
       "</table>\n",
       "</div>"
      ],
      "text/plain": [
       "   Education  JoiningYear  City  PaymentTier  Age  Gender  EverBenched  \\\n",
       "0          0            5     0            2   12       1            0   \n",
       "1          0            1     2            0    6       0            0   \n",
       "2          0            2     1            2   16       0            0   \n",
       "3          1            4     0            2    5       1            0   \n",
       "4          1            5     2            2    2       1            1   \n",
       "\n",
       "   ExperienceInCurrentDomain  \n",
       "0                          0  \n",
       "1                          3  \n",
       "2                          2  \n",
       "3                          5  \n",
       "4                          2  "
      ]
     },
     "execution_count": 253,
     "metadata": {},
     "output_type": "execute_result"
    }
   ],
   "source": [
    "encoder = OrdinalEncoder(dtype=np.int64)\n",
    "\n",
    "X = df.drop(\"LeaveOrNot\",axis=1)\n",
    "y = df[\"LeaveOrNot\"]\n",
    "\n",
    "X[X.columns.to_list()] = encoder.fit_transform(X)\n",
    "X.head()"
   ]
  },
  {
   "cell_type": "code",
   "execution_count": 315,
   "metadata": {},
   "outputs": [
    {
     "data": {
      "text/plain": [
       "array([12,  6, 16,  5,  2,  0,  1, 15, 10, 17,  7,  8, 14,  9,  3,  4, 18,\n",
       "       13, 11, 19], dtype=int64)"
      ]
     },
     "execution_count": 315,
     "metadata": {},
     "output_type": "execute_result"
    }
   ],
   "source": [
    "X.Age.unique()"
   ]
  },
  {
   "cell_type": "code",
   "execution_count": 314,
   "metadata": {},
   "outputs": [
    {
     "data": {
      "text/plain": [
       "array([5, 1, 2, 4, 3, 0, 6], dtype=int64)"
      ]
     },
     "execution_count": 314,
     "metadata": {},
     "output_type": "execute_result"
    }
   ],
   "source": [
    "X.JoiningYear.unique()"
   ]
  },
  {
   "cell_type": "code",
   "execution_count": 313,
   "metadata": {},
   "outputs": [
    {
     "data": {
      "text/plain": [
       "array([0, 1, 2], dtype=int64)"
      ]
     },
     "execution_count": 313,
     "metadata": {},
     "output_type": "execute_result"
    }
   ],
   "source": [
    "X.Education.unique()"
   ]
  },
  {
   "cell_type": "code",
   "execution_count": 256,
   "metadata": {},
   "outputs": [],
   "source": [
    "X_train, X_test, y_train, y_test = train_test_split(X,y)"
   ]
  },
  {
   "cell_type": "code",
   "execution_count": 298,
   "metadata": {},
   "outputs": [],
   "source": [
    "scaler = StandardScaler()\n",
    "X_train_scaled = scaler.fit_transform(X_train)\n",
    "X_test_scaled =scaler.transform(X_test)"
   ]
  },
  {
   "cell_type": "code",
   "execution_count": 257,
   "metadata": {},
   "outputs": [
    {
     "data": {
      "text/plain": [
       "ExtraTreesClassifier()"
      ]
     },
     "execution_count": 257,
     "metadata": {},
     "output_type": "execute_result"
    }
   ],
   "source": [
    "from sklearn.ensemble import ExtraTreesClassifier\n",
    "model = ExtraTreesClassifier()\n",
    "model.fit(X,y)"
   ]
  },
  {
   "cell_type": "code",
   "execution_count": 258,
   "metadata": {},
   "outputs": [
    {
     "data": {
      "image/png": "[encoded data removed]",
      "text/plain": [
       "<Figure size 432x288 with 1 Axes>"
      ]
     },
     "metadata": {},
     "output_type": "display_data"
    }
   ],
   "source": [
    "#menentukan feature importance\n",
    "feat_importances = pd.Series(model.feature_importances_, index=X.columns)\n",
    "feat_importances.nlargest(17).plot(kind='barh')\n",
    "plt.show()"
   ]
  },
  {
   "cell_type": "markdown",
   "metadata": {},
   "source": [
    "insight:\n",
    "1. Fitur yang paling berpengaruh adalah joining Year, age dan city"
   ]
  },
  {
   "cell_type": "markdown",
   "metadata": {},
   "source": [
    "Modeling dan Model Evaluation"
   ]
  },
  {
   "cell_type": "code",
   "execution_count": 305,
   "metadata": {},
   "outputs": [
    {
     "name": "stdout",
     "output_type": "stream",
     "text": [
      "[[647  81]\n",
      " [314 122]]\n",
      "              precision    recall  f1-score   support\n",
      "\n",
      "           0       0.67      0.89      0.77       728\n",
      "           1       0.60      0.28      0.38       436\n",
      "\n",
      "    accuracy                           0.66      1164\n",
      "   macro avg       0.64      0.58      0.57      1164\n",
      "weighted avg       0.65      0.66      0.62      1164\n",
      "\n",
      "ROC AUC: 0.5842763887488658\n",
      "Accuracy Score Train: 0.6884494124390943\n",
      "Accuracy Score Test: 0.6606529209621993\n",
      "Precision Score Train: 0.5771543086172345\n",
      "Precision Score Test: 0.6009852216748769\n",
      "F-1Score: 0.38184663536776214\n"
     ]
    }
   ],
   "source": [
    "#model Logisctic Regression\n",
    "from sklearn.model_selection import cross_val_score\n",
    "from sklearn.model_selection import KFold\n",
    "logmodel = LogisticRegression() \n",
    "logmodel.fit(X_train_scaled,y_train)\n",
    "y_pred_train_logmodel = logmodel.predict(X_train)\n",
    "y_pred_test_logmodel = logmodel.predict(X_test)\n",
    "\n",
    "\n",
    "print(confusion_matrix(y_test, y_pred_test_logmodel))\n",
    "LOGCV = (cross_val_score(logmodel, X_train, y_train, cv=k_fold, n_jobs=1, scoring = 'accuracy').mean())\n",
    "print(classification_report(y_test, y_pred_test_logmodel))\n",
    "print('ROC AUC:',roc_auc_score(y_test, y_pred_test_logmodel))\n",
    "print('Accuracy Score Train:', accuracy_score(y_train, y_pred_train_logmodel))\n",
    "print('Accuracy Score Test:', accuracy_score(y_test, y_pred_test_logmodel))\n",
    "print('Precision Score Train:', precision_score (y_train, y_pred_train_logmodel))\n",
    "print('Precision Score Test:', precision_score (y_test, y_pred_test_logmodel))\n",
    "print('F-1Score:',f1_score(y_test, y_pred_test_logmodel))"
   ]
  },
  {
   "cell_type": "code",
   "execution_count": 306,
   "metadata": {},
   "outputs": [
    {
     "name": "stdout",
     "output_type": "stream",
     "text": [
      "[[702  26]\n",
      " [264 172]]\n",
      "              precision    recall  f1-score   support\n",
      "\n",
      "           0       0.73      0.96      0.83       728\n",
      "           1       0.87      0.39      0.54       436\n",
      "\n",
      "    accuracy                           0.75      1164\n",
      "   macro avg       0.80      0.68      0.69      1164\n",
      "weighted avg       0.78      0.75      0.72      1164\n",
      "\n",
      "ROC AUC: 0.6793905635648755\n",
      "Accuracy Score Train: 0.7847520779593007\n",
      "Accuracy Score Test: 0.7508591065292096\n",
      "Precision Score Train: 0.8680926916221033\n",
      "Precision Score Test: 0.8686868686868687\n",
      "F-1Score: 0.5425867507886436\n"
     ]
    }
   ],
   "source": [
    "#model KNeighbors Classifier\n",
    "from sklearn.neighbors import KNeighborsClassifier\n",
    "knn = KNeighborsClassifier(n_neighbors=22)\n",
    "knn.fit(X_train, y_train)\n",
    "y_pred_train_knn = knn.predict(X_train)\n",
    "y_pred_test_knn = knn.predict(X_test)\n",
    "\n",
    "print(confusion_matrix(y_test, y_pred_test_knn))\n",
    "KNNCV = (cross_val_score(knn, X_train, y_train, cv=k_fold, n_jobs=1, scoring = 'accuracy').mean())\n",
    "print(classification_report(y_test, y_pred_test_knn))\n",
    "print('ROC AUC:',roc_auc_score(y_test, y_pred_test_knn))\n",
    "print('Accuracy Score Train:', accuracy_score(y_train, y_pred_train_knn))\n",
    "print('Accuracy Score Test:', accuracy_score(y_test, y_pred_test_knn))\n",
    "print('Precision Score Train:', precision_score (y_train, y_pred_train_knn))\n",
    "print('Precision Score Test:', precision_score (y_test, y_pred_test_knn))\n",
    "print('F-1Score:',f1_score(y_test, y_pred_test_knn))"
   ]
  },
  {
   "cell_type": "code",
   "execution_count": 307,
   "metadata": {},
   "outputs": [
    {
     "name": "stdout",
     "output_type": "stream",
     "text": [
      "[[496 232]\n",
      " [304 132]]\n",
      "              precision    recall  f1-score   support\n",
      "\n",
      "           0       0.62      0.68      0.65       728\n",
      "           1       0.36      0.30      0.33       436\n",
      "\n",
      "    accuracy                           0.54      1164\n",
      "   macro avg       0.49      0.49      0.49      1164\n",
      "weighted avg       0.52      0.54      0.53      1164\n",
      "\n",
      "ROC AUC: 0.4920354874483315\n",
      "Accuracy Score Train: 0.586127830323875\n",
      "Accuracy Score Test: 0.5395189003436426\n",
      "Precision Score Train: 0.37318840579710144\n",
      "Precision Score Test: 0.3626373626373626\n",
      "F-1Score: 0.33\n"
     ]
    }
   ],
   "source": [
    "#model SVC\n",
    "from sklearn.svm import SVC\n",
    "svc= SVC(kernel = 'sigmoid')\n",
    "svc.fit(X_train, y_train)\n",
    "y_pred_train_svc = svc.predict(X_train)\n",
    "y_pred_test_svc = svc.predict(X_test)\n",
    "\n",
    "print(confusion_matrix(y_test, y_pred_test_svc))\n",
    "SVCCV = (cross_val_score(svc, X_train, y_train, cv=k_fold, n_jobs=1, scoring = 'accuracy').mean())\n",
    "print(classification_report(y_test, y_pred_test_svc))\n",
    "print('ROC AUC:',roc_auc_score(y_test, y_pred_test_svc))\n",
    "print('Accuracy Score Train:', accuracy_score(y_train, y_pred_train_svc))\n",
    "print('Accuracy Score Test:', accuracy_score(y_test, y_pred_test_svc))\n",
    "print('Precision Score Train:', precision_score (y_train, y_pred_train_svc))\n",
    "print('Precision Score Test:', precision_score (y_test, y_pred_test_svc))\n",
    "print('F-1Score:',f1_score(y_test, y_pred_test_svc))"
   ]
  },
  {
   "cell_type": "code",
   "execution_count": 308,
   "metadata": {},
   "outputs": [
    {
     "name": "stdout",
     "output_type": "stream",
     "text": [
      "[[645  83]\n",
      " [138 298]]\n",
      "              precision    recall  f1-score   support\n",
      "\n",
      "           0       0.82      0.89      0.85       728\n",
      "           1       0.78      0.68      0.73       436\n",
      "\n",
      "    accuracy                           0.81      1164\n",
      "   macro avg       0.80      0.78      0.79      1164\n",
      "weighted avg       0.81      0.81      0.81      1164\n",
      "\n",
      "ROC AUC: 0.7847376247605605\n",
      "Accuracy Score Train: 0.9329320722269991\n",
      "Accuracy Score Test: 0.8101374570446735\n",
      "Precision Score Train: 0.9783950617283951\n",
      "Precision Score Test: 0.7821522309711286\n",
      "F-1Score: 0.7294981640146878\n"
     ]
    }
   ],
   "source": [
    "#model DecisionTreeClassifier\n",
    "from sklearn.tree import DecisionTreeClassifier\n",
    "dtree = DecisionTreeClassifier(criterion='gini') #criterion = entopy, gini\n",
    "dtree.fit(X_train, y_train)\n",
    "y_pred_train_dtree = dtree.predict(X_train)\n",
    "y_pred_test_dtree = dtree.predict(X_test)\n",
    "\n",
    "print(confusion_matrix(y_test, y_pred_test_dtree))\n",
    "DTREECV = (cross_val_score(dtree, X_train, y_train, cv=k_fold, n_jobs=1, scoring = 'accuracy').mean())\n",
    "print(classification_report(y_test, y_pred_test_dtree))\n",
    "print('ROC AUC:',roc_auc_score(y_test, y_pred_test_dtree))\n",
    "print('Accuracy Score Train:', accuracy_score(y_train, y_pred_train_dtree))\n",
    "print('Accuracy Score Test:', accuracy_score(y_test, y_pred_test_dtree))\n",
    "print('Precision Score Train:', precision_score (y_train, y_pred_train_dtree))\n",
    "print('Precision Score Test:', precision_score (y_test, y_pred_test_dtree))\n",
    "print('F-1Score:',f1_score(y_test, y_pred_test_dtree))"
   ]
  },
  {
   "cell_type": "code",
   "execution_count": 309,
   "metadata": {},
   "outputs": [
    {
     "name": "stdout",
     "output_type": "stream",
     "text": [
      "[[663  65]\n",
      " [140 296]]\n",
      "              precision    recall  f1-score   support\n",
      "\n",
      "           0       0.83      0.91      0.87       728\n",
      "           1       0.82      0.68      0.74       436\n",
      "\n",
      "    accuracy                           0.82      1164\n",
      "   macro avg       0.82      0.79      0.80      1164\n",
      "weighted avg       0.82      0.82      0.82      1164\n",
      "\n",
      "ROC AUC: 0.7948066841415465\n",
      "Accuracy Score Train: 0.9329320722269991\n",
      "Accuracy Score Test: 0.8238831615120275\n",
      "Precision Score Train: 0.9514563106796117\n",
      "Precision Score Test: 0.8199445983379502\n",
      "F-1Score: 0.7427854454203263\n"
     ]
    }
   ],
   "source": [
    "#model Random Forest Classifier\n",
    "from sklearn.ensemble import RandomForestClassifier\n",
    "rfc = RandomForestClassifier(n_estimators = 200)#criterion = entopy,gini\n",
    "rfc.fit(X_train, y_train)\n",
    "y_pred_train_rfc = rfc.predict(X_train)\n",
    "y_pred_test_rfc = rfc.predict(X_test)\n",
    "\n",
    "print(confusion_matrix(y_test, y_pred_test_rfc ))\n",
    "RFCCV = (cross_val_score(rfc, X_train, y_train, cv=k_fold, n_jobs=1, scoring = 'accuracy').mean())\n",
    "print(classification_report(y_test, y_pred_test_rfc))\n",
    "print('ROC AUC:',roc_auc_score(y_test, y_pred_test_rfc))\n",
    "print('Accuracy Score Train:', accuracy_score(y_train, y_pred_train_rfc))\n",
    "print('Accuracy Score Test:', accuracy_score(y_test, y_pred_test_rfc))\n",
    "print('Precision Score Train:', precision_score (y_train, y_pred_train_rfc))\n",
    "print('Precision Score Test:', precision_score (y_test, y_pred_test_rfc))\n",
    "print('F-1Score:',f1_score(y_test, y_pred_test_rfc))"
   ]
  },
  {
   "cell_type": "code",
   "execution_count": 310,
   "metadata": {},
   "outputs": [
    {
     "name": "stdout",
     "output_type": "stream",
     "text": [
      "[[589 139]\n",
      " [237 199]]\n",
      "              precision    recall  f1-score   support\n",
      "\n",
      "           0       0.71      0.81      0.76       728\n",
      "           1       0.59      0.46      0.51       436\n",
      "\n",
      "    accuracy                           0.68      1164\n",
      "   macro avg       0.65      0.63      0.64      1164\n",
      "weighted avg       0.67      0.68      0.67      1164\n",
      "\n",
      "ROC AUC: 0.632743976207279\n",
      "Accuracy Score Train: 0.6904557179707652\n",
      "Accuracy Score Test: 0.6769759450171822\n",
      "Precision Score Train: 0.5451612903225806\n",
      "Precision Score Test: 0.5887573964497042\n",
      "F-1Score: 0.5142118863049095\n"
     ]
    }
   ],
   "source": [
    "#model Gausian NB Classifier\n",
    "from sklearn.naive_bayes import GaussianNB\n",
    "gaussiannb= GaussianNB()\n",
    "gaussiannb.fit(X_train, y_train)\n",
    "y_pred_train_gaussiannbp = gaussiannb.predict(X_train)\n",
    "y_pred_test_gaussiannbp = gaussiannb.predict(X_test)\n",
    "\n",
    "print(confusion_matrix(y_test, y_pred_test_gaussiannbp ))\n",
    "GAUSIAN = (cross_val_score(gaussiannb, X_train, y_train, cv=k_fold, n_jobs=1, scoring = 'accuracy').mean())\n",
    "print(classification_report(y_test, y_pred_test_gaussiannbp))\n",
    "print('ROC AUC:',roc_auc_score(y_test, y_pred_test_gaussiannbp))\n",
    "print('Accuracy Score Train:', accuracy_score(y_train, y_pred_train_gaussiannbp))\n",
    "print('Accuracy Score Test:', accuracy_score(y_test, y_pred_test_gaussiannbp))\n",
    "print('Precision Score Train:', precision_score (y_train, y_pred_train_gaussiannbp))\n",
    "print('Precision Score Test:', precision_score (y_test, y_pred_test_gaussiannbp))\n",
    "print('F-1Score:',f1_score(y_test, y_pred_test_gaussiannbp))"
   ]
  },
  {
   "cell_type": "code",
   "execution_count": 265,
   "metadata": {},
   "outputs": [
    {
     "name": "stdout",
     "output_type": "stream",
     "text": [
      "[[689  39]\n",
      " [151 285]]\n",
      "84.0\n",
      "              precision    recall  f1-score   support\n",
      "\n",
      "           0       0.82      0.95      0.88       728\n",
      "           1       0.88      0.65      0.75       436\n",
      "\n",
      "    accuracy                           0.84      1164\n",
      "   macro avg       0.85      0.80      0.81      1164\n",
      "weighted avg       0.84      0.84      0.83      1164\n",
      "\n",
      "ROC AUC: 0.8000491480996068\n",
      "Accuracy Score Train: 0.8535396961880195\n",
      "Accuracy Score Test: 0.8367697594501718\n",
      "Precision Score Train: 0.893848009650181\n",
      "Precision Score Test: 0.8796296296296297\n",
      "F-1Score: 0.7500000000000001\n"
     ]
    }
   ],
   "source": [
    "#model GradientBoosting Classifier\n",
    "from sklearn.ensemble import GradientBoostingClassifier\n",
    "gbk = GradientBoostingClassifier()\n",
    "gbk.fit(X_train, y_train)\n",
    "y_pred_train_gbk = gbk.predict(X_train)\n",
    "y_pred_test_gbk = gbk.predict(X_test)\n",
    "\n",
    "print(confusion_matrix(y_test, y_pred_test_gbk ))\n",
    "print(round(accuracy_score(y_test, y_pred_test_gbk),2)*100)\n",
    "GBKCV = (cross_val_score(gbk, X_train, y_train, cv=k_fold, n_jobs=1, scoring = 'accuracy').mean())\n",
    "print(classification_report(y_test, y_pred_test_gbk))\n",
    "print('ROC AUC:',roc_auc_score(y_test, y_pred_test_gbk))\n",
    "print('Accuracy Score Train:', accuracy_score(y_train, y_pred_train_gbk))\n",
    "print('Accuracy Score Test:', accuracy_score(y_test, y_pred_test_gbk))\n",
    "print('Precision Score Train:', precision_score (y_train, y_pred_train_gbk))\n",
    "print('Precision Score Test:', precision_score (y_test, y_pred_test_gbk))\n",
    "print('F-1Score:',f1_score(y_test, y_pred_test_gbk))"
   ]
  },
  {
   "cell_type": "code",
   "execution_count": 266,
   "metadata": {},
   "outputs": [
    {
     "data": {
      "text/html": [
       "<div>\n",
       "<style scoped>\n",
       "    .dataframe tbody tr th:only-of-type {\n",
       "        vertical-align: middle;\n",
       "    }\n",
       "\n",
       "    .dataframe tbody tr th {\n",
       "        vertical-align: top;\n",
       "    }\n",
       "\n",
       "    .dataframe thead th {\n",
       "        text-align: right;\n",
       "    }\n",
       "</style>\n",
       "<table border=\"1\" class=\"dataframe\">\n",
       "  <thead>\n",
       "    <tr style=\"text-align: right;\">\n",
       "      <th></th>\n",
       "      <th>Models</th>\n",
       "      <th>Score</th>\n",
       "    </tr>\n",
       "  </thead>\n",
       "  <tbody>\n",
       "    <tr>\n",
       "      <th>6</th>\n",
       "      <td>Gradient Boosting</td>\n",
       "      <td>0.843512</td>\n",
       "    </tr>\n",
       "    <tr>\n",
       "      <th>0</th>\n",
       "      <td>Random Forest Classifier</td>\n",
       "      <td>0.828895</td>\n",
       "    </tr>\n",
       "    <tr>\n",
       "      <th>1</th>\n",
       "      <td>Decision Tree Classifier</td>\n",
       "      <td>0.804532</td>\n",
       "    </tr>\n",
       "    <tr>\n",
       "      <th>3</th>\n",
       "      <td>K-Near Neighbors</td>\n",
       "      <td>0.764982</td>\n",
       "    </tr>\n",
       "    <tr>\n",
       "      <th>4</th>\n",
       "      <td>Logistic Model</td>\n",
       "      <td>0.710519</td>\n",
       "    </tr>\n",
       "    <tr>\n",
       "      <th>5</th>\n",
       "      <td>Gausian NB</td>\n",
       "      <td>0.688446</td>\n",
       "    </tr>\n",
       "    <tr>\n",
       "      <th>2</th>\n",
       "      <td>Support Vector Machine</td>\n",
       "      <td>0.594722</td>\n",
       "    </tr>\n",
       "  </tbody>\n",
       "</table>\n",
       "</div>"
      ],
      "text/plain": [
       "                     Models     Score\n",
       "6         Gradient Boosting  0.843512\n",
       "0  Random Forest Classifier  0.828895\n",
       "1  Decision Tree Classifier  0.804532\n",
       "3          K-Near Neighbors  0.764982\n",
       "4            Logistic Model  0.710519\n",
       "5                Gausian NB  0.688446\n",
       "2    Support Vector Machine  0.594722"
      ]
     },
     "execution_count": 266,
     "metadata": {},
     "output_type": "execute_result"
    }
   ],
   "source": [
    "models = pd.DataFrame({\n",
    "                'Models': ['Random Forest Classifier', 'Decision Tree Classifier', 'Support Vector Machine',\n",
    "                           'K-Near Neighbors', 'Logistic Model', 'Gausian NB', 'Gradient Boosting'],\n",
    "                'Score':  [RFCCV, DTREECV, SVCCV, KNNCV, LOGCV, GAUSIAN, GBKCV]})\n",
    "\n",
    "models.sort_values(by='Score', ascending=False)"
   ]
  },
  {
   "cell_type": "markdown",
   "metadata": {},
   "source": [
    "Terlihat bahwa model yang memiliki nilai terbaik adalah Gradient Boosting, random forest classifier dan Decision Tree."
   ]
  },
  {
   "cell_type": "code",
   "execution_count": 267,
   "metadata": {},
   "outputs": [],
   "source": [
    "random_state=11\n",
    "n_jobs = -1\n",
    "# GardienBoostingClassifier\n",
    "pipe_gbc = Pipeline([('gbc', GradientBoostingClassifier(random_state=None, max_features=None))])\n",
    "# RandomForestClassifier\n",
    "pipe_rf = Pipeline([('rf', RandomForestClassifier(random_state=random_state, oob_score=True, n_jobs=n_jobs))])\n",
    "# DecisionTreeClassifier\n",
    "pipe_dt = Pipeline([('dt', DecisionTreeClassifier(random_state=random_state, max_features='auto'))])"
   ]
  },
  {
   "cell_type": "code",
   "execution_count": 268,
   "metadata": {},
   "outputs": [],
   "source": [
    "#menentukan parameters untuk Grid Search untuk model terbaik\n",
    "\n",
    "cv = StratifiedKFold(shuffle=True, n_splits=5, random_state=random_state)\n",
    "# GradienBoositing\n",
    "grid_params_gbc = [{\n",
    "                'gbc__n_estimators': [100],\n",
    "                'gbc__min_weight_fraction_leaf': [0],\n",
    "                'gbc__max_depth': [3]\n",
    "                }]\n",
    "# RandomForestClassifier\n",
    "grid_params_rf = [{\n",
    "                'rf__criterion': ['entropy'],\n",
    "                'rf__min_samples_leaf': [80, 100],\n",
    "                'rf__max_depth': [25, 27],\n",
    "                'rf__min_samples_split': [3, 5],\n",
    "                'rf__n_estimators' : [60, 70]\n",
    "                }]\n",
    "# DecisionTreeClassifier\n",
    "grid_params_dt = [{\n",
    "                'dt__max_depth': [8, 10],\n",
    "                'dt__min_samples_leaf': [1, 3, 5, 7]\n",
    "                  }]\n"
   ]
  },
  {
   "cell_type": "code",
   "execution_count": 269,
   "metadata": {},
   "outputs": [],
   "source": [
    "#Mencari Grid Search\n",
    "#GradienBoostingRegression\n",
    "gs_gbc = GridSearchCV(pipe_gbc, param_grid=grid_params_gbc,\n",
    "                     scoring='accuracy', cv=cv) \n",
    "#RandomForestClassifier\n",
    "gs_rf = GridSearchCV(pipe_rf, param_grid=grid_params_rf,\n",
    "                     scoring='accuracy', cv=cv)\n",
    "#DecisionTree\n",
    "gs_dt = GridSearchCV(pipe_dt, param_grid=grid_params_dt,\n",
    "                     scoring='accuracy', cv=cv)"
   ]
  },
  {
   "cell_type": "code",
   "execution_count": 270,
   "metadata": {},
   "outputs": [],
   "source": [
    "# models yang ingin diiterasi\n",
    "look_for = [gs_gbc, gs_rf, gs_dt]\n",
    "# dict for later use \n",
    "model_dict = {0:'Gradien Boosting', 1:'RandomForest', 2:'DecisionTree'}"
   ]
  },
  {
   "cell_type": "code",
   "execution_count": 271,
   "metadata": {},
   "outputs": [
    {
     "name": "stdout",
     "output_type": "stream",
     "text": [
      "\n",
      "+++++++ Start Model ++++++++++++++++++++++\n",
      "Estimator  Gradien Boosting\n",
      "---------------------------------------------\n",
      "best params {'gbc__max_depth': 3, 'gbc__min_weight_fraction_leaf': 0, 'gbc__n_estimators': 100}\n",
      "best score  0.8437980209904914\n",
      "---------------------------------------------\n",
      "ROC_AUC is 0.8780796325234399 and accuracy rate is 0.8367697594501718\n",
      "It lasted for 1.579 sec\n",
      "++++++++ End Model +++++++++++++++++++++++++++\n",
      "\n",
      "\n",
      "\n",
      "+++++++ Start Model ++++++++++++++++++++++\n",
      "Estimator  RandomForest\n",
      "---------------------------------------------\n",
      "best params {'rf__criterion': 'entropy', 'rf__max_depth': 25, 'rf__min_samples_leaf': 80, 'rf__min_samples_split': 3, 'rf__n_estimators': 70}\n",
      "best score  0.8002289797042585\n",
      "---------------------------------------------\n",
      "ROC_AUC is 0.8528045921967942 and accuracy rate is 0.7878006872852233\n",
      "It lasted for 22.988 sec\n",
      "++++++++ End Model +++++++++++++++++++++++++++\n",
      "\n",
      "\n",
      "\n",
      "+++++++ Start Model ++++++++++++++++++++++\n",
      "Estimator  DecisionTree\n",
      "---------------------------------------------\n",
      "best params {'dt__max_depth': 8, 'dt__min_samples_leaf': 7}\n",
      "best score  0.8225814275671832\n",
      "---------------------------------------------\n",
      "ROC_AUC is 0.8599751739086602 and accuracy rate is 0.8152920962199313\n",
      "It lasted for 0.259 sec\n",
      "++++++++ End Model +++++++++++++++++++++++++++\n",
      "\n",
      "\n"
     ]
    }
   ],
   "source": [
    "#iterasi model dan hasil\n",
    "result_acc = {}\n",
    "result_auc = {}\n",
    "models = []\n",
    "\n",
    "for index, model in enumerate(look_for):\n",
    "        start = time.time()\n",
    "        print()\n",
    "        print('+++++++ Start Model ++++++++++++++++++++++')\n",
    "        print('Estimator  {}'.format(model_dict[index]))\n",
    "        model.fit(X_train, y_train)\n",
    "        print('---------------------------------------------')\n",
    "        print('best params {}'.format(model.best_params_))\n",
    "        print('best score  {}'.format(model.best_score_))\n",
    "        auc = roc_auc_score(y_test, model.predict_proba(X_test)[:,1])\n",
    "        print('---------------------------------------------')\n",
    "        print('ROC_AUC is {} and accuracy rate is {}'.format(auc, model.score(X_test, y_test)))\n",
    "        end = time.time()\n",
    "        print('It lasted for {} sec'.format(round(end - start, 3)))\n",
    "        print('++++++++ End Model +++++++++++++++++++++++++++')\n",
    "        print()\n",
    "        print()\n",
    "        models.append(model.best_estimator_)\n",
    "        result_acc[index] = model.best_score_\n",
    "        result_auc[index] = auc"
   ]
  },
  {
   "cell_type": "markdown",
   "metadata": {},
   "source": [
    "Model Improvement"
   ]
  },
  {
   "cell_type": "code",
   "execution_count": 272,
   "metadata": {},
   "outputs": [
    {
     "data": {
      "text/plain": [
       "GradientBoostingClassifier(min_weight_fraction_leaf=0)"
      ]
     },
     "execution_count": 272,
     "metadata": {},
     "output_type": "execute_result"
    }
   ],
   "source": [
    "best_gbk_clf = GradientBoostingClassifier(max_depth=3, min_weight_fraction_leaf=0, n_estimators=100)\n",
    "best_gbk_clf.fit(X_train, y_train)\n"
   ]
  },
  {
   "cell_type": "code",
   "execution_count": 273,
   "metadata": {},
   "outputs": [
    {
     "name": "stdout",
     "output_type": "stream",
     "text": [
      "[[689  39]\n",
      " [151 285]]\n",
      "84.0\n",
      "              precision    recall  f1-score   support\n",
      "\n",
      "           0       0.82      0.95      0.88       728\n",
      "           1       0.88      0.65      0.75       436\n",
      "\n",
      "    accuracy                           0.84      1164\n",
      "   macro avg       0.85      0.80      0.81      1164\n",
      "weighted avg       0.84      0.84      0.83      1164\n",
      "\n",
      "ROC AUC: 0.8000491480996068\n",
      "Accuracy Score Train: 0.8535396961880195\n",
      "Accuracy Score Test: 0.8367697594501718\n",
      "Precision Score Train: 0.893848009650181\n",
      "Precision Score Test: 0.8796296296296297\n",
      "F-1Score: 0.7500000000000001\n"
     ]
    }
   ],
   "source": [
    "y_pred_train_best_gbk = best_gbk_clf.predict(X_train)\n",
    "y_pred_test_best_gbk = best_gbk_clf.predict(X_test)\n",
    "\n",
    "print(confusion_matrix(y_test, y_pred_test_best_gbk ))\n",
    "print(round(accuracy_score(y_test, y_pred_test_best_gbk),2)*100)\n",
    "GBKCV = (cross_val_score(gbk, X_train, y_train, cv=k_fold, n_jobs=1, scoring = 'accuracy').mean())\n",
    "print(classification_report(y_test, y_pred_test_best_gbk))\n",
    "print('ROC AUC:',roc_auc_score(y_test, y_pred_test_best_gbk))\n",
    "print('Accuracy Score Train:', accuracy_score(y_train, y_pred_train_best_gbk))\n",
    "print('Accuracy Score Test:', accuracy_score(y_test, y_pred_test_best_gbk))\n",
    "print('Precision Score Train:', precision_score (y_train, y_pred_train_best_gbk))\n",
    "print('Precision Score Test:', precision_score (y_test, y_pred_test_best_gbk))\n",
    "print('F-1Score:',f1_score(y_test, y_pred_test_best_gbk))"
   ]
  },
  {
   "cell_type": "markdown",
   "metadata": {},
   "source": [
    "Model Analisis:\n",
    "1. Dari 6 model yang dilakukan, Gradien Boosting Classifier merupakan model yang paling cocok dengan data ini karena memiliki Acurray yang paling baik dan tidak terjadi overfitting ataupun underfitting.\n",
    "2. setiap model memiliki waktu yang berbeda dalam running, yang paling lama dalam data ini dalah random foret clasifier dalam waktu 10.9 detik.\n",
    "3. Dalam model Improvement ditemukan bahwa paramete terbaik untuk GradienBoosting classifier adalah max_depth=3, min_weight_fraction_leaf=0, n_estimators=100\n",
    "4. Tidak terdapat perbedaan nilai antara base mmodel dan model improvement"
   ]
  },
  {
   "cell_type": "markdown",
   "metadata": {},
   "source": [
    "Model Inference"
   ]
  },
  {
   "cell_type": "code",
   "execution_count": 274,
   "metadata": {},
   "outputs": [],
   "source": [
    "#membuat data baru\n",
    "X_ex= np.random.randint(10, size=(128292,8))"
   ]
  },
  {
   "cell_type": "code",
   "execution_count": 275,
   "metadata": {},
   "outputs": [
    {
     "data": {
      "text/plain": [
       "array([0, 0, 0, ..., 1, 1, 1], dtype=int64)"
      ]
     },
     "execution_count": 275,
     "metadata": {},
     "output_type": "execute_result"
    }
   ],
   "source": [
    "#logisticregression\n",
    "y_pred = logmodel.predict(X_ex)\n",
    "y_pred"
   ]
  },
  {
   "cell_type": "code",
   "execution_count": 276,
   "metadata": {},
   "outputs": [
    {
     "data": {
      "text/plain": [
       "array([0, 0, 0, ..., 1, 0, 0], dtype=int64)"
      ]
     },
     "execution_count": 276,
     "metadata": {},
     "output_type": "execute_result"
    }
   ],
   "source": [
    "#Knearneigboarn\n",
    "y_predknn = knn.predict(X_ex)\n",
    "y_predknn"
   ]
  },
  {
   "cell_type": "code",
   "execution_count": 277,
   "metadata": {},
   "outputs": [
    {
     "data": {
      "text/plain": [
       "array([0, 0, 0, ..., 0, 0, 0], dtype=int64)"
      ]
     },
     "execution_count": 277,
     "metadata": {},
     "output_type": "execute_result"
    }
   ],
   "source": [
    "#SVC\n",
    "y_predsvc = svc.predict(X_ex)\n",
    "y_predsvc"
   ]
  },
  {
   "cell_type": "code",
   "execution_count": 278,
   "metadata": {},
   "outputs": [
    {
     "data": {
      "text/plain": [
       "array([0, 1, 0, ..., 1, 1, 0], dtype=int64)"
      ]
     },
     "execution_count": 278,
     "metadata": {},
     "output_type": "execute_result"
    }
   ],
   "source": [
    "#Decisiontree\n",
    "y_preddtree = dtree.predict(X_ex)\n",
    "y_preddtree"
   ]
  },
  {
   "cell_type": "code",
   "execution_count": 279,
   "metadata": {},
   "outputs": [
    {
     "data": {
      "text/plain": [
       "array([0, 1, 0, ..., 1, 1, 1], dtype=int64)"
      ]
     },
     "execution_count": 279,
     "metadata": {},
     "output_type": "execute_result"
    }
   ],
   "source": [
    "#randomforestclassifier\n",
    "y_predrfc = rfc.predict(X_ex)\n",
    "y_predrfc"
   ]
  },
  {
   "cell_type": "code",
   "execution_count": 280,
   "metadata": {},
   "outputs": [
    {
     "data": {
      "text/plain": [
       "array([1, 1, 1, ..., 1, 1, 1], dtype=int64)"
      ]
     },
     "execution_count": 280,
     "metadata": {},
     "output_type": "execute_result"
    }
   ],
   "source": [
    "#gausianNB\n",
    "y_predgaussiannb = gaussiannb.predict(X_ex)\n",
    "y_predgaussiannb"
   ]
  },
  {
   "cell_type": "code",
   "execution_count": 281,
   "metadata": {},
   "outputs": [
    {
     "data": {
      "text/plain": [
       "array([1, 1, 1, ..., 1, 1, 1], dtype=int64)"
      ]
     },
     "execution_count": 281,
     "metadata": {},
     "output_type": "execute_result"
    }
   ],
   "source": [
    "y_predgaussiannb = gaussiannb.predict(X_ex)\n",
    "y_predgaussiannb"
   ]
  },
  {
   "cell_type": "code",
   "execution_count": 282,
   "metadata": {},
   "outputs": [
    {
     "data": {
      "text/plain": [
       "array([0, 1, 0, ..., 1, 1, 0], dtype=int64)"
      ]
     },
     "execution_count": 282,
     "metadata": {},
     "output_type": "execute_result"
    }
   ],
   "source": [
    "#gradienBoosting\n",
    "y_predgbk = gbk.predict(X_ex)\n",
    "y_predgbk"
   ]
  },
  {
   "cell_type": "markdown",
   "metadata": {},
   "source": [
    "Kesimpulan:\n",
    "1. Tahun 2018 terjadi lonjakan besar karyawan yang keluar dari perusahaan.\n",
    "2. Karyawan dari kota Pune paling berpotensi meninggal perusahaan dibandingkan dengan kota lain\n",
    "3. Payment Tier pada ketegori 2 banyak yang meninggalkan perusahaan, sementara Payment Tier level 3 tidak banyak yang keluar. Hal ini terjadi karena Payment Tier level 3 memiliki jumlah yang lebih besar dari payment tier 2. Payment tier 2 walaupun lebih besar dari payment tier 1 bisa jadi memiliki jobdesk yang tidak sesuai dengan hasil yang didapat.\n",
    "4. Wanita cenderung meninggalkan perusahaan bisa jadi dikarenakan tekanan yang besar.\n",
    "5. Karyawan yang tidak mengerjakan proyek berkemungkinan besar resign dari perusahaan, penting bagi HR untuk melakukan follup karyawan agar tetap berkontribusi dalam proyek perusahaan.\n",
    "6. Menghindari pelonjakan karyawan yang keluar kembali dapat dilakukan evaluasi terhadap layanan perusahaan kepada karyawan, memberikan pekerjaan yang sesuai dengan hasil yang didapatkan akan menjaga karyawan untuk tetap bertahan dan berkontribusi kepada perusahaan.\n",
    "7. Permodelan yang cocok untuk data ini adalah model Gradien Boosting Clasifier dengan base line model dan improvement model mempunyai accuracy 0.84\n",
    "8. Model mampu memprediksi data baru\n"
   ]
  },
  {
   "cell_type": "code",
   "execution_count": 283,
   "metadata": {},
   "outputs": [],
   "source": [
    "import pickle\n",
    "filename = open(\"scaler.pkl\", \"wb\")\n",
    "pickle.dump(scaler, filename)\n",
    "filename.close()"
   ]
  },
  {
   "cell_type": "code",
   "execution_count": 284,
   "metadata": {},
   "outputs": [],
   "source": [
    "with open(\"model.pkl\", \"wb\") as model_file:\n",
    "    pickle.dump(best_gbk_clf, model_file)"
   ]
  },
  {
   "cell_type": "code",
   "execution_count": 292,
   "metadata": {},
   "outputs": [],
   "source": [
    "from sklearn.pipeline import Pipeline\n",
    "\n",
    "pipe = Pipeline([('encoder', OrdinalEncoder()),\n",
    "                ('model', GradientBoostingClassifier())])"
   ]
  },
  {
   "cell_type": "code",
   "execution_count": 296,
   "metadata": {},
   "outputs": [
    {
     "data": {
      "text/plain": [
       "Pipeline(steps=[('encoder', OrdinalEncoder()),\n",
       "                ('model', GradientBoostingClassifier())])"
      ]
     },
     "execution_count": 296,
     "metadata": {},
     "output_type": "execute_result"
    }
   ],
   "source": [
    "pipe.fit(X_train, y_train)"
   ]
  },
  {
   "cell_type": "code",
   "execution_count": 297,
   "metadata": {},
   "outputs": [
    {
     "name": "stdout",
     "output_type": "stream",
     "text": [
      "              precision    recall  f1-score   support\n",
      "\n",
      "           0       0.82      0.95      0.88       728\n",
      "           1       0.88      0.65      0.75       436\n",
      "\n",
      "    accuracy                           0.84      1164\n",
      "   macro avg       0.85      0.80      0.81      1164\n",
      "weighted avg       0.84      0.84      0.83      1164\n",
      "\n"
     ]
    }
   ],
   "source": [
    "y_pred= pipe.predict(X_test)\n",
    "print(classification_report(y_test, y_pred))"
   ]
  },
  {
   "cell_type": "code",
   "execution_count": 311,
   "metadata": {},
   "outputs": [],
   "source": [
    "with open(\"pipeline.pkl\",\"wb\") as pipe_model:\n",
    "    pickle.dump(pipe, pipe_model)"
   ]
  }
 ],
 "metadata": {
  "interpreter": {
   "hash": "aecd030d4c8316a52bf122072e28f84bcc79844c2684e041fef2e3f1d9f59078"
  },
  "kernelspec": {
   "display_name": "Python 3.10.1 64-bit",
   "language": "python",
   "name": "python3"
  },
  "language_info": {
   "codemirror_mode": {
    "name": "ipython",
    "version": 3
   },
   "file_extension": ".py",
   "mimetype": "text/x-python",
   "name": "python",
   "nbconvert_exporter": "python",
   "pygments_lexer": "ipython3",
   "version": "3.10.1"
  },
  "orig_nbformat": 4
 },
 "nbformat": 4,
 "nbformat_minor": 2
}
